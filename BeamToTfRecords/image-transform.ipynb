{
 "cells": [
  {
   "cell_type": "code",
   "execution_count": 1,
   "metadata": {},
   "outputs": [
    {
     "data": {
      "text/plain": [
       "'3.7.2 (default, Jan 24 2019, 09:39:48) \\n[Clang 10.0.0 (clang-1000.11.45.5)]'"
      ]
     },
     "execution_count": 1,
     "metadata": {},
     "output_type": "execute_result"
    }
   ],
   "source": [
    "import sys\n",
    "sys.version"
   ]
  },
  {
   "cell_type": "code",
   "execution_count": 4,
   "metadata": {},
   "outputs": [
    {
     "name": "stdout",
     "output_type": "stream",
     "text": [
      "\u001b[33mYou are using pip version 18.1, however version 19.1 is available.\n",
      "You should consider upgrading via the 'pip install --upgrade pip' command.\u001b[0m\n"
     ]
    }
   ],
   "source": [
    "!python -m pip install -qU apache-beam[gcp] tensorflow numpy Pillow"
   ]
  },
  {
   "cell_type": "code",
   "execution_count": 1,
   "metadata": {},
   "outputs": [
    {
     "name": "stderr",
     "output_type": "stream",
     "text": [
      "/Users/ponti/.pyenv/versions/3.7.2/Python.framework/Versions/3.7/lib/python3.7/site-packages/apache_beam/__init__.py:84: UserWarning: Running the Apache Beam SDK on Python 3 is not yet fully supported. You may encounter buggy behavior or missing features.\n",
      "  'Running the Apache Beam SDK on Python 3 is not yet fully supported. '\n"
     ]
    }
   ],
   "source": [
    "import os\n",
    "\n",
    "import apache_beam as beam\n",
    "import apache_beam.io.fileio as fileio\n",
    "import tensorflow as tf"
   ]
  },
  {
   "cell_type": "code",
   "execution_count": 2,
   "metadata": {},
   "outputs": [],
   "source": [
    "tf.enable_eager_execution()"
   ]
  },
  {
   "cell_type": "markdown",
   "metadata": {},
   "source": [
    "Define parameters and use View -> Cell Toolbar -> Tags to add `parameters` tag for [papermill](https://github.com/nteract/papermill)"
   ]
  },
  {
   "cell_type": "code",
   "execution_count": 3,
   "metadata": {
    "tags": [
     "parameters"
    ]
   },
   "outputs": [],
   "source": [
    "# This cell is tagged `parameters`\n",
    "input_directory = os.path.expanduser('~/Downloads/catvdog/input')\n",
    "output_directory = os.path.expanduser('~/Downloads/catvdog/output')\n",
    "dataset_name = 'catvdog'\n",
    "num_shards = 2\n",
    "has_labels = True\n",
    "run_on_dataflow = False"
   ]
  },
  {
   "cell_type": "code",
   "execution_count": 4,
   "metadata": {},
   "outputs": [],
   "source": [
    "if run_on_dataflow:\n",
    "    runner = beam.runners.DataflowRunner()\n",
    "else:\n",
    "    runner = beam.runners.DirectRunner()"
   ]
  },
  {
   "cell_type": "code",
   "execution_count": 13,
   "metadata": {},
   "outputs": [],
   "source": [
    "class TFExampleFromImageDoFn(beam.DoFn):\n",
    "    def process(self, element):\n",
    "        label, file_metadata = element\n",
    "\n",
    "        def _bytes_feature(value):\n",
    "            return tf.train.Feature(bytes_list=tf.train.BytesList(value=[value]))\n",
    "\n",
    "        def _int_feature(value):\n",
    "            return tf.train.Feature(int64_list=tf.train.Int64List(value=[value]))\n",
    "\n",
    "        def _float_feature(value):\n",
    "            return tf.train.Feature(float_list=tf.train.FloatList(value=[value]))\n",
    "\n",
    "        with tf.gfile.Open(file_metadata.path, 'rb') as f:\n",
    "            img_bytes = f.read()\n",
    "            img = tf.image.decode_jpeg(img_bytes, channels=3).numpy()\n",
    "\n",
    "        width, height, _ = img.shape\n",
    "\n",
    "        feature = {\n",
    "            'image/bytes': _bytes_feature(img.tobytes()),\n",
    "            'image/width': _int_feature(width),\n",
    "            'image/height': _int_feature(height),\n",
    "            'image/filename': _bytes_feature(file_metadata.path.encode())\n",
    "        }\n",
    "\n",
    "        if label is not None:\n",
    "            feature['label'] = _bytes_feature(label.encode())\n",
    "\n",
    "        example = tf.train.Example(features=tf.train.Features(feature=feature))\n",
    "\n",
    "        yield example"
   ]
  },
  {
   "cell_type": "code",
   "execution_count": null,
   "metadata": {},
   "outputs": [],
   "source": [
    "beam.io.filesystems.FileSystems.match()"
   ]
  },
  {
   "cell_type": "code",
   "execution_count": 17,
   "metadata": {
    "scrolled": false
   },
   "outputs": [
    {
     "name": "stderr",
     "output_type": "stream",
     "text": [
      "/Users/ponti/.pyenv/versions/3.7.2/Python.framework/Versions/3.7/lib/python3.7/site-packages/ipykernel_launcher.py:13: FutureWarning: MatchAll is experimental.\n",
      "  del sys.path[0]\n",
      "WARNING:root:Deleting 2 existing files in target path matching: -*\n"
     ]
    }
   ],
   "source": [
    "def run_pipeline():\n",
    "    path_expression = os.path.join(input_directory, '**/*.jpg')\n",
    "    output_path = os.path.join(output_directory, dataset_name)\n",
    "\n",
    "    with beam.Pipeline(runner=runner) as p: \n",
    "        (p\n",
    "         | 'Create with path expression' >> beam.Create([path_expression])\n",
    "         | 'Match Path Expression' >> fileio.MatchAll(fileio.EmptyMatchTreatment.DISALLOW)\n",
    "         # The label is the parent folder of the file\n",
    "         # Extract that folder name from the FileMetadata.path property\n",
    "         | 'Extract labels' >> beam.Map(lambda f: (os.path.basename(os.path.dirname(f.path)), f))\n",
    "         | 'To TF Example' >> beam.ParDo(TFExampleFromImageDoFn())\n",
    "         | 'Save TF Records' >> beam.io.WriteToTFRecord(\n",
    "             output_path, file_name_suffix='.tfrecord', num_shards=num_shards,\n",
    "             shard_name_template='-SS', coder=beam.coders.ProtoCoder(tf.train.Example)\n",
    "         ))\n",
    "\n",
    "run_pipeline()"
   ]
  },
  {
   "cell_type": "code",
   "execution_count": null,
   "metadata": {},
   "outputs": [],
   "source": []
  }
 ],
 "metadata": {
  "kernelspec": {
   "display_name": "Python 3",
   "language": "python",
   "name": "python3"
  },
  "language_info": {
   "codemirror_mode": {
    "name": "ipython",
    "version": 3
   },
   "file_extension": ".py",
   "mimetype": "text/x-python",
   "name": "python",
   "nbconvert_exporter": "python",
   "pygments_lexer": "ipython3",
   "version": "3.7.2"
  }
 },
 "nbformat": 4,
 "nbformat_minor": 2
}
