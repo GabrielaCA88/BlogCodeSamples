{
 "cells": [
  {
   "cell_type": "markdown",
   "metadata": {
    "colab_type": "text",
    "id": "yyrWPiiHyT2W"
   },
   "source": [
    "# Image classification using TensorFlow estimators and TensorFlow Hub for transfer learning"
   ]
  },
  {
   "cell_type": "markdown",
   "metadata": {
    "colab_type": "text",
    "id": "MImaq1-xzVPo"
   },
   "source": [
    "*This notebook is available [as a codelab](https://colab.research.google.com/github/damienpontifex/BlogCodeSamples/blob/master/TransferLearning/TfHubDogsVsCats.ipynb)*"
   ]
  },
  {
   "cell_type": "markdown",
   "metadata": {},
   "source": [
    "TensorFlow Hub was [announced](https://www.youtube.com/watch?v=rirzJ-e68cw) at TensorFlow Dev Summit 2018 and promises to reduce the effort required to use existing machine learning models and weights in your own custom model. From the [overview page](https://www.tensorflow.org/hub/)\n",
    "\n",
    "> TensorFlow Hub is a library to foster the publication, discovery, and consumption of reusable parts of machine learning models. A module is a self-contained piece of a TensorFlow graph, along with its weights and assets, that can be reused across different tasks in a process known as transfer learning.\n",
    "\n",
    "Dogs vs Cats is a great classification problem to learn about transfer learning and is the [first lesson of the fast.ai course](http://course.fast.ai/lessons/lesson1.html) and was hosted on Kaggle. The teaching is if you can achieve transfer learning for this two-class problem of cats and dogs, you can do it for any *n*-class problem for your own solution."
   ]
  },
  {
   "cell_type": "markdown",
   "metadata": {
    "heading_collapsed": true
   },
   "source": [
    "### Prerequisites"
   ]
  },
  {
   "cell_type": "markdown",
   "metadata": {
    "hidden": true
   },
   "source": [
    "You will need to install TensorFlow Hub from pip and have at least TensorFlow version 1.7. I'm also assuming you have some understanding (although not required but will be in this code) of TensorFlow and machine learning, mainly:\n",
    "* Data preparation\n",
    "* tf.data input\n",
    "* TensorFlow estimators\n",
    "\n",
    "To ensure you've got the libraries installed run:"
   ]
  },
  {
   "cell_type": "code",
   "execution_count": null,
   "metadata": {
    "hidden": true
   },
   "outputs": [],
   "source": [
    "%%bash \n",
    "# pip3 install -qU tensorflow>=1.7.0 # Don't run this on Google's colab as you probably want to use the version they have pre-installed\n",
    "pip3 install -q tensorflow-hub"
   ]
  },
  {
   "cell_type": "markdown",
   "metadata": {
    "hidden": true
   },
   "source": [
    "Just some usual imports and matplotlib setup for notebooks. And then just print out some information about our TensorFlow environment"
   ]
  },
  {
   "cell_type": "code",
   "execution_count": 15,
   "metadata": {
    "colab": {
     "autoexec": {
      "startup": false,
      "wait_interval": 0
     }
    },
    "colab_type": "code",
    "hidden": true,
    "id": "xfWmW-C4yT2Z"
   },
   "outputs": [],
   "source": [
    "import os\n",
    "from urllib import request\n",
    "import zipfile\n",
    "import matplotlib.pyplot as plt\n",
    "import tensorflow as tf\n",
    "import tensorflow_hub as hub\n",
    "from tensorflow.python import debug as tf_debug\n",
    "\n",
    "%matplotlib inline"
   ]
  },
  {
   "cell_type": "code",
   "execution_count": 2,
   "metadata": {
    "colab": {
     "autoexec": {
      "startup": false,
      "wait_interval": 0
     },
     "base_uri": "https://localhost:8080/",
     "height": 34
    },
    "colab_type": "code",
    "executionInfo": {
     "elapsed": 3002,
     "status": "ok",
     "timestamp": 1524296794479,
     "user": {
      "displayName": "Damien Pontifex",
      "photoUrl": "//lh6.googleusercontent.com/-vzx8iRgnijo/AAAAAAAAAAI/AAAAAAAACYo/wxqtg8T5C5Y/s50-c-k-no/photo.jpg",
      "userId": "108154422920170673093"
     },
     "user_tz": -480
    },
    "hidden": true,
    "id": "5CILIgB8yT2b",
    "outputId": "61cbcfb8-9abc-44b3-9450-63e6755f146f"
   },
   "outputs": [
    {
     "data": {
      "text/plain": [
       "('1.7.0', False, False, '')"
      ]
     },
     "execution_count": 2,
     "metadata": {},
     "output_type": "execute_result"
    }
   ],
   "source": [
    "tf.__version__, tf.test.is_gpu_available(), tf.test.is_built_with_cuda(), tf.test.gpu_device_name()"
   ]
  },
  {
   "cell_type": "markdown",
   "metadata": {
    "colab_type": "text",
    "hidden": true,
    "id": "uDKyHDlryT2Y"
   },
   "source": [
    "The Dogs vs Cats Kaggle competition is a two-class image classification problem. Transfer learning can be used to reduce the amount of computation and to reuse previously computed features of interest.\n",
    "\n",
    "For this, we'll look into the new TensorFlow Hub modules to train on our own dataset. First lets just grab, and have a look, at the data we've got."
   ]
  },
  {
   "cell_type": "markdown",
   "metadata": {
    "colab_type": "text",
    "id": "yBuHfgNEyT2g"
   },
   "source": [
    "## Data\n",
    "\n",
    "We will get the data from the fastai zip of the dogs and cats images. The file pattern on disk is to have each category of images labelled by placing all associated images into one folder. As such, we will have a folder named 'dogs' of all dog images and 'cats' of all cat images to train on."
   ]
  },
  {
   "cell_type": "markdown",
   "metadata": {
    "colab_type": "text",
    "id": "ZNCd9lh6yT2h"
   },
   "source": [
    "So that this notebook can be run anywhere, here we are just downloading the archive and placing it in a temporary local data directory"
   ]
  },
  {
   "cell_type": "code",
   "execution_count": 3,
   "metadata": {
    "colab": {
     "autoexec": {
      "startup": false,
      "wait_interval": 0
     },
     "base_uri": "https://localhost:8080/",
     "height": 34
    },
    "colab_type": "code",
    "executionInfo": {
     "elapsed": 20353,
     "status": "ok",
     "timestamp": 1524296814851,
     "user": {
      "displayName": "Damien Pontifex",
      "photoUrl": "//lh6.googleusercontent.com/-vzx8iRgnijo/AAAAAAAAAAI/AAAAAAAACYo/wxqtg8T5C5Y/s50-c-k-no/photo.jpg",
      "userId": "108154422920170673093"
     },
     "user_tz": -480
    },
    "id": "OkOoTig1yT2j",
    "outputId": "acce310a-88f4-411e-8189-762fd5e72344"
   },
   "outputs": [
    {
     "data": {
      "text/plain": [
       "'/tmp/dogscats.zip'"
      ]
     },
     "execution_count": 3,
     "metadata": {},
     "output_type": "execute_result"
    }
   ],
   "source": [
    "data_dir = '/tmp/datasets/dogscats'\n",
    "\n",
    "if not os.path.isdir(data_dir):\n",
    "    # Download the data zip to our data directory and extract\n",
    "    fallback_url = 'http://files.fast.ai/data/dogscats.zip'\n",
    "    tf.keras.utils.get_file(\n",
    "        os.path.join('/tmp', os.path.basename(fallback_url)), \n",
    "        fallback_url, \n",
    "        cache_dir='/tmp',\n",
    "        extract=True)"
   ]
  },
  {
   "cell_type": "markdown",
   "metadata": {
    "colab_type": "text",
    "id": "-5IESSdvyT2m"
   },
   "source": [
    "Looking at what is in the data directory"
   ]
  },
  {
   "cell_type": "code",
   "execution_count": 5,
   "metadata": {
    "colab": {
     "autoexec": {
      "startup": false,
      "wait_interval": 0
     },
     "base_uri": "https://localhost:8080/",
     "height": 34
    },
    "colab_type": "code",
    "executionInfo": {
     "elapsed": 765,
     "status": "ok",
     "timestamp": 1524296817334,
     "user": {
      "displayName": "Damien Pontifex",
      "photoUrl": "//lh6.googleusercontent.com/-vzx8iRgnijo/AAAAAAAAAAI/AAAAAAAACYo/wxqtg8T5C5Y/s50-c-k-no/photo.jpg",
      "userId": "108154422920170673093"
     },
     "user_tz": -480
    },
    "id": "UCGH9FF3yT2n",
    "outputId": "7902240f-04c7-4da4-8826-3fb435d35c3c"
   },
   "outputs": [
    {
     "data": {
      "text/plain": [
       "['valid', '.DS_Store', 'test1', 'models', 'sample', 'train']"
      ]
     },
     "execution_count": 5,
     "metadata": {},
     "output_type": "execute_result"
    }
   ],
   "source": [
    "os.listdir(data_dir)"
   ]
  },
  {
   "cell_type": "markdown",
   "metadata": {
    "colab_type": "text",
    "id": "u8IaDYSI3Hwv"
   },
   "source": [
    "Look in the valid directory to see the image classes. Here we see we have a folder of dogs and another of cats."
   ]
  },
  {
   "cell_type": "code",
   "execution_count": 6,
   "metadata": {
    "colab": {
     "autoexec": {
      "startup": false,
      "wait_interval": 0
     },
     "base_uri": "https://localhost:8080/",
     "height": 34
    },
    "colab_type": "code",
    "executionInfo": {
     "elapsed": 842,
     "status": "ok",
     "timestamp": 1524296818341,
     "user": {
      "displayName": "Damien Pontifex",
      "photoUrl": "//lh6.googleusercontent.com/-vzx8iRgnijo/AAAAAAAAAAI/AAAAAAAACYo/wxqtg8T5C5Y/s50-c-k-no/photo.jpg",
      "userId": "108154422920170673093"
     },
     "user_tz": -480
    },
    "id": "Q_p3NtYwyT2p",
    "outputId": "188fdb69-7b2b-46fa-d3a5-8f12addf62e1"
   },
   "outputs": [
    {
     "data": {
      "text/plain": [
       "['dogs', 'cats']"
      ]
     },
     "execution_count": 6,
     "metadata": {},
     "output_type": "execute_result"
    }
   ],
   "source": [
    "os.listdir(os.path.join(data_dir, 'valid'))"
   ]
  },
  {
   "cell_type": "code",
   "execution_count": 7,
   "metadata": {
    "colab": {
     "autoexec": {
      "startup": false,
      "wait_interval": 0
     },
     "base_uri": "https://localhost:8080/",
     "height": 102
    },
    "colab_type": "code",
    "executionInfo": {
     "elapsed": 854,
     "status": "ok",
     "timestamp": 1524296819365,
     "user": {
      "displayName": "Damien Pontifex",
      "photoUrl": "//lh6.googleusercontent.com/-vzx8iRgnijo/AAAAAAAAAAI/AAAAAAAACYo/wxqtg8T5C5Y/s50-c-k-no/photo.jpg",
      "userId": "108154422920170673093"
     },
     "user_tz": -480
    },
    "id": "4cucT-8nyT2r",
    "outputId": "d9b7f633-aab8-48b3-c1e2-dbf5582774c3"
   },
   "outputs": [
    {
     "data": {
      "text/plain": [
       "['cat.9895.jpg',\n",
       " 'cat.10145.jpg',\n",
       " 'cat.11515.jpg',\n",
       " 'cat.9103.jpg',\n",
       " 'cat.7890.jpg']"
      ]
     },
     "execution_count": 7,
     "metadata": {},
     "output_type": "execute_result"
    }
   ],
   "source": [
    "cats = os.listdir(os.path.join(data_dir, 'valid', 'cats'))[:5]\n",
    "cats"
   ]
  },
  {
   "cell_type": "code",
   "execution_count": 8,
   "metadata": {
    "colab": {
     "autoexec": {
      "startup": false,
      "wait_interval": 0
     },
     "base_uri": "https://localhost:8080/",
     "height": 286
    },
    "colab_type": "code",
    "executionInfo": {
     "elapsed": 1480,
     "status": "ok",
     "timestamp": 1524296820976,
     "user": {
      "displayName": "Damien Pontifex",
      "photoUrl": "//lh6.googleusercontent.com/-vzx8iRgnijo/AAAAAAAAAAI/AAAAAAAACYo/wxqtg8T5C5Y/s50-c-k-no/photo.jpg",
      "userId": "108154422920170673093"
     },
     "user_tz": -480
    },
    "id": "0gPCjE11yT2x",
    "outputId": "0af44482-472a-4f44-9b47-6f188d05ac25"
   },
   "outputs": [
    {
     "data": {
      "text/plain": [
       "<matplotlib.image.AxesImage at 0x11be750f0>"
      ]
     },
     "execution_count": 8,
     "metadata": {},
     "output_type": "execute_result"
    },
    {
     "data": {
      "image/png": "[encoded data removed]",
      "text/plain": [
       "<matplotlib.figure.Figure at 0x11a38c9e8>"
      ]
     },
     "metadata": {},
     "output_type": "display_data"
    }
   ],
   "source": [
    "img = plt.imread(os.path.join(data_dir, 'valid', 'cats', cats[0]))\n",
    "plt.imshow(img)"
   ]
  },
  {
   "cell_type": "code",
   "execution_count": 9,
   "metadata": {
    "colab": {
     "autoexec": {
      "startup": false,
      "wait_interval": 0
     },
     "base_uri": "https://localhost:8080/",
     "height": 34
    },
    "colab_type": "code",
    "executionInfo": {
     "elapsed": 1102,
     "status": "ok",
     "timestamp": 1524296822296,
     "user": {
      "displayName": "Damien Pontifex",
      "photoUrl": "//lh6.googleusercontent.com/-vzx8iRgnijo/AAAAAAAAAAI/AAAAAAAACYo/wxqtg8T5C5Y/s50-c-k-no/photo.jpg",
      "userId": "108154422920170673093"
     },
     "user_tz": -480
    },
    "id": "AJpkogZuyT20",
    "outputId": "ac667043-a1d4-4ad1-d718-e0cafeffb88a"
   },
   "outputs": [
    {
     "data": {
      "text/plain": [
       "(499, 410, 3)"
      ]
     },
     "execution_count": 9,
     "metadata": {},
     "output_type": "execute_result"
    }
   ],
   "source": [
    "img.shape"
   ]
  },
  {
   "cell_type": "markdown",
   "metadata": {
    "colab_type": "text",
    "id": "Fvc9MEvlyT22"
   },
   "source": [
    "## tf.data to access our dataset"
   ]
  },
  {
   "cell_type": "markdown",
   "metadata": {
    "colab_type": "text",
    "id": "Q0wBO0U3yT23"
   },
   "source": [
    "Our dataset input function is responsible for providing features and labels to the network. We will use a glob pattern via the `file_pattern` parameter to indicate the files on disk and return a dataset to use."
   ]
  },
  {
   "cell_type": "code",
   "execution_count": 10,
   "metadata": {
    "colab": {
     "autoexec": {
      "startup": false,
      "wait_interval": 0
     }
    },
    "colab_type": "code",
    "id": "1NNmeWQhyT23"
   },
   "outputs": [],
   "source": [
    "def make_input_fn(file_pattern, image_size=(299, 299), shuffle=False, batch_size=64, num_epochs=None, buffer_size=4096):\n",
    "    \n",
    "    def _path_to_img(path):\n",
    "        # Get the parent folder of this file to get it's class name\n",
    "        label = tf.string_split([path], delimiter='/').values[-2]\n",
    "        \n",
    "        # Read in the image from disk\n",
    "        image_string = tf.read_file(path)\n",
    "        image_decoded = tf.image.decode_jpeg(image_string, channels=3)\n",
    "        # Convert from full range of uint8 to range [0,1] of float32.\n",
    "        image_decoded_as_float = tf.image.convert_image_dtype(image_decoded, dtype=tf.float32)\n",
    "        # Resize to expected\n",
    "        image_resized = tf.image.resize_images(image_decoded_as_float, size=image_size)\n",
    "        \n",
    "        return { 'image': image_resized }, label\n",
    "    \n",
    "    def _input_fn():\n",
    "      \n",
    "        dataset = tf.data.Dataset.list_files(file_pattern)\n",
    "\n",
    "        if shuffle:\n",
    "            dataset = dataset.apply(tf.contrib.data.shuffle_and_repeat(buffer_size, num_epochs))\n",
    "        else:\n",
    "            dataset = dataset.repeat(num_epochs)\n",
    "\n",
    "        dataset = dataset.map(_path_to_img, num_parallel_calls=os.cpu_count())\n",
    "        dataset = dataset.batch(batch_size).prefetch(buffer_size)\n",
    "\n",
    "        return dataset\n",
    "\n",
    "    return _input_fn"
   ]
  },
  {
   "cell_type": "markdown",
   "metadata": {
    "colab_type": "text",
    "id": "n6Es-6sjyT26"
   },
   "source": [
    "## Our first model"
   ]
  },
  {
   "cell_type": "markdown",
   "metadata": {
    "colab_type": "text",
    "id": "wRZKeml15-iW"
   },
   "source": [
    "We're setting up an esimator `model_fn` so we can include the module as the base and then provide our own dense layer and activations to be trained for our use case. We're passing in the module spec (a string) via the `params` dictionary so we could swap out another image classification model easily.\n",
    "\n",
    "The highlight here for TensorFlow Hub and transfer learning are these lines:\n",
    "\n",
    "```python\n",
    "module = hub.Module(params['module_spec'], trainable=is_training, name=params['module_name'])\n",
    "bottleneck_tensor = module(features['image'])\n",
    "```\n",
    "\n",
    "We load up the module and specify whether we would like to fine tune it or not. Then pass in our image tensor to the module and get the output tensor as `bottleneck_tensor` to be used in further layers. If you see a diagram of the structure of some of these models, the simplification of this down to two lines is amazing!"
   ]
  },
  {
   "cell_type": "code",
   "execution_count": 11,
   "metadata": {
    "colab": {
     "autoexec": {
      "startup": false,
      "wait_interval": 0
     }
    },
    "colab_type": "code",
    "id": "FYAwIHlE4gfh"
   },
   "outputs": [],
   "source": [
    "def model_fn(features, labels, mode, params):\n",
    "    is_training = mode == tf.estimator.ModeKeys.TRAIN\n",
    "\n",
    "    NUM_CLASSES = len(params['label_vocab'])\n",
    "\n",
    "    module = hub.Module(params['module_spec'], trainable=is_training, name=params['module_name'])\n",
    "    bottleneck_tensor = module(features['image'])\n",
    "\n",
    "    with tf.name_scope('final_retrain_ops'):\n",
    "        logits = tf.layers.dense(bottleneck_tensor, units=1, trainable=is_training and params['train_module'])\n",
    "\n",
    "    def train_op_fn(loss):\n",
    "        optimizer = tf.train.AdamOptimizer(learning_rate=params['learning_rate'])\n",
    "        return optimizer.minimize(loss, global_step=tf.train.get_global_step())\n",
    "\n",
    "    if NUM_CLASSES == 2:\n",
    "        head = tf.contrib.estimator.binary_classification_head(label_vocabulary=params['label_vocab'])\n",
    "    else:\n",
    "        head = tf.contrib.estimator.multi_class_head(n_classes=NUM_CLASSES, label_vocabulary=params['label_vocab'])\n",
    "\n",
    "    return head.create_estimator_spec(\n",
    "        features, mode, logits, labels, train_op_fn=train_op_fn\n",
    "    )"
   ]
  },
  {
   "cell_type": "markdown",
   "metadata": {},
   "source": [
    "Finally, we setup our estimator as per usual:\n",
    "\n",
    "* Define some hyperparameters\n",
    "* Construct the estimator\n",
    "* `train_and_evaluate`\n",
    "\n",
    "And with that, we get distributed training and great device placement for data processing on the CPU and training on the GPU."
   ]
  },
  {
   "cell_type": "code",
   "execution_count": 20,
   "metadata": {
    "colab": {
     "autoexec": {
      "startup": false,
      "wait_interval": 0
     }
    },
    "colab_type": "code",
    "id": "fzrxTWnD9hBr"
   },
   "outputs": [],
   "source": [
    "def train(model_directory, data_directory):\n",
    "\n",
    "    params = {\n",
    "        'module_spec': 'https://tfhub.dev/google/imagenet/resnet_v2_50/feature_vector/1',\n",
    "        'module_name': 'resnet_v2_50',\n",
    "        'learning_rate': 1e-3,\n",
    "        'train_module': False,  # Whether we want to finetune the module\n",
    "        'label_vocab': os.listdir(os.path.join(data_dir, 'valid'))\n",
    "    }\n",
    "\n",
    "    run_config = tf.estimator.RunConfig()\n",
    "\n",
    "    classifier = tf.estimator.Estimator(\n",
    "        model_fn=model_fn,\n",
    "        model_dir=model_directory,\n",
    "        config=run_config,\n",
    "        params=params\n",
    "    )\n",
    "\n",
    "    input_img_size = hub.get_expected_image_size(hub.Module(params['module_spec']))\n",
    "\n",
    "    train_files = os.path.join(data_directory, 'train', '**/*.jpg')\n",
    "    train_input_fn = make_input_fn(train_files, image_size=input_img_size, batch_size=8, shuffle=True)\n",
    "    train_spec = tf.estimator.TrainSpec(train_input_fn, max_steps=20)\n",
    "\n",
    "    eval_files = os.path.join(data_directory, 'valid', '**/*.jpg')\n",
    "    eval_input_fn = make_input_fn(eval_files, image_size=input_img_size, batch_size=1)\n",
    "    eval_spec = tf.estimator.EvalSpec(eval_input_fn)\n",
    "\n",
    "    tf.estimator.train_and_evaluate(classifier, train_spec, eval_spec)"
   ]
  },
  {
   "cell_type": "code",
   "execution_count": null,
   "metadata": {
    "colab": {
     "autoexec": {
      "startup": false,
      "wait_interval": 0
     },
     "base_uri": "https://localhost:8080/",
     "height": 12033
    },
    "colab_type": "code",
    "executionInfo": {
     "elapsed": 53077,
     "status": "error",
     "timestamp": 1524296879061,
     "user": {
      "displayName": "Damien Pontifex",
      "photoUrl": "//lh6.googleusercontent.com/-vzx8iRgnijo/AAAAAAAAAAI/AAAAAAAACYo/wxqtg8T5C5Y/s50-c-k-no/photo.jpg",
      "userId": "108154422920170673093"
     },
     "user_tz": -480
    },
    "id": "rYLgeNKc_SX_",
    "outputId": "ddb31f7f-c8bf-4e46-fcdb-9f414735e5c1"
   },
   "outputs": [],
   "source": [
    "tf.logging.set_verbosity(tf.logging.INFO)\n",
    "train('/tmp/dogscats/run2', data_dir)"
   ]
  },
  {
   "cell_type": "markdown",
   "metadata": {
    "colab": {
     "autoexec": {
      "startup": false,
      "wait_interval": 0
     }
    },
    "colab_type": "code",
    "id": "PlrHicQFKKYQ"
   },
   "source": [
    "## Conclusion"
   ]
  },
  {
   "cell_type": "markdown",
   "metadata": {},
   "source": [
    "TensorFlow Hub will significantely increase the approachability for people to use complex models from others for their own specific task. The ability to fine tune while also using as is continues to democritize everyone's use of ML tools."
   ]
  },
  {
   "cell_type": "code",
   "execution_count": null,
   "metadata": {},
   "outputs": [],
   "source": []
  }
 ],
 "metadata": {
  "accelerator": "GPU",
  "colab": {
   "collapsed_sections": [],
   "default_view": {},
   "name": "TfHubDogsVsCats.ipynb",
   "provenance": [],
   "version": "0.3.2",
   "views": {}
  },
  "kernelspec": {
   "display_name": "Python 3",
   "language": "python",
   "name": "python3"
  },
  "language_info": {
   "codemirror_mode": {
    "name": "ipython",
    "version": 3
   },
   "file_extension": ".py",
   "mimetype": "text/x-python",
   "name": "python",
   "nbconvert_exporter": "python",
   "pygments_lexer": "ipython3",
   "version": "3.6.5"
  }
 },
 "nbformat": 4,
 "nbformat_minor": 2
}
